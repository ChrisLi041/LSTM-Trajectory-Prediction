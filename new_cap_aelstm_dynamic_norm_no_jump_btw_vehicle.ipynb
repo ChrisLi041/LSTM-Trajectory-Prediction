{
  "cells": [
    {
      "cell_type": "code",
      "execution_count": 1,
      "metadata": {
        "colab": {
          "base_uri": "https://localhost:8080/"
        },
        "id": "ZUi1AJZSTqT2",
        "outputId": "27d7d634-7479-4819-84b5-87d261417671"
      },
      "outputs": [
        {
          "output_type": "stream",
          "name": "stdout",
          "text": [
            "Mounted at /content/drive\n"
          ]
        }
      ],
      "source": [
        "# from google.colab import drive\n",
        "import pandas as pd\n",
        "from pandas import read_csv\n",
        "from pandas import DataFrame\n",
        "from pandas import concat\n",
        "import random\n",
        "import numpy as np\n",
        "from scipy import signal\n",
        "import matplotlib.pyplot as plt\n",
        "from tqdm import tqdm as tqdm\n",
        "from keras.layers import *\n",
        "from keras.models import *\n",
        "from sklearn.preprocessing import MinMaxScaler\n",
        "import pickle\n",
        "from google.colab import drive\n",
        "drive.mount('/content/drive')\n",
        "Path = 'drive/MyDrive/Traffic_data'"
      ]
    },
    {
      "cell_type": "code",
      "execution_count": 2,
      "metadata": {
        "id": "iwZ5SWJZTqT6"
      },
      "outputs": [],
      "source": [
        "#  import torch\n",
        "# seed = 1024\n",
        "# nrows = 150159\n",
        "\n",
        "# how many vehicles?\n",
        "nrows = 100000\n",
        "feature_names = ['ego_x',\"ego_v\", 'f_dx', 'f_dy', 'f_dv', 'b_dx', 'b_dy','b_dv', 'l_dx', 'l_dy', 'l_dv', 'r_dx', 'r_dy', 'r_dv']\n",
        "# Label1: Ego vehicle lateral displacement\n",
        "label_names_1 = ['ego_x']\n",
        "\n",
        "# Label2: Ego vehicle longitudinal velocity\n",
        "label_names_2 = ['ego_v']\n",
        "# label_name = 'ego_v'\n",
        "time_columns = \"index\"\n",
        "\n",
        "full_path = Path+'/Final_result.xlsx' \n",
        "\n",
        "###############################\n",
        "# nrows = 150158+1\n",
        "################################\n",
        "\n",
        "train_rows=int(nrows*0.7) \n",
        "epoch_no = 200\n",
        "batch_size_RNN = 128\n",
        "n_in = 10\n",
        "n_out = 6"
      ]
    },
    {
      "cell_type": "code",
      "execution_count": 3,
      "metadata": {
        "colab": {
          "base_uri": "https://localhost:8080/",
          "height": 206
        },
        "id": "6_qVdk8tTqT6",
        "outputId": "fae25f10-2a35-44fd-f1dd-e58e7e8cb59f"
      },
      "outputs": [
        {
          "output_type": "execute_result",
          "data": {
            "text/html": [
              "\n",
              "  <div id=\"df-139327e9-0cca-41ea-8f19-8fc6f9827a87\">\n",
              "    <div class=\"colab-df-container\">\n",
              "      <div>\n",
              "<style scoped>\n",
              "    .dataframe tbody tr th:only-of-type {\n",
              "        vertical-align: middle;\n",
              "    }\n",
              "\n",
              "    .dataframe tbody tr th {\n",
              "        vertical-align: top;\n",
              "    }\n",
              "\n",
              "    .dataframe thead th {\n",
              "        text-align: right;\n",
              "    }\n",
              "</style>\n",
              "<table border=\"1\" class=\"dataframe\">\n",
              "  <thead>\n",
              "    <tr style=\"text-align: right;\">\n",
              "      <th></th>\n",
              "      <th>index</th>\n",
              "      <th>ego_x</th>\n",
              "      <th>ego_v</th>\n",
              "      <th>f_dx</th>\n",
              "      <th>f_dy</th>\n",
              "      <th>f_dv</th>\n",
              "      <th>b_dx</th>\n",
              "      <th>b_dy</th>\n",
              "      <th>b_dv</th>\n",
              "      <th>l_dx</th>\n",
              "      <th>l_dy</th>\n",
              "      <th>l_dv</th>\n",
              "      <th>r_dx</th>\n",
              "      <th>r_dy</th>\n",
              "      <th>r_dv</th>\n",
              "    </tr>\n",
              "  </thead>\n",
              "  <tbody>\n",
              "    <tr>\n",
              "      <th>0</th>\n",
              "      <td>0</td>\n",
              "      <td>51.816071</td>\n",
              "      <td>34.006429</td>\n",
              "      <td>30.0</td>\n",
              "      <td>300.0</td>\n",
              "      <td>0.0</td>\n",
              "      <td>0.561490</td>\n",
              "      <td>0.561490</td>\n",
              "      <td>2.236814</td>\n",
              "      <td>-13.171722</td>\n",
              "      <td>-13.171722</td>\n",
              "      <td>0.154693</td>\n",
              "      <td>30.000000</td>\n",
              "      <td>300.000000</td>\n",
              "      <td>0.000000</td>\n",
              "    </tr>\n",
              "    <tr>\n",
              "      <th>1</th>\n",
              "      <td>1</td>\n",
              "      <td>52.726857</td>\n",
              "      <td>35.324286</td>\n",
              "      <td>30.0</td>\n",
              "      <td>300.0</td>\n",
              "      <td>0.0</td>\n",
              "      <td>-1.311634</td>\n",
              "      <td>-1.311634</td>\n",
              "      <td>-0.999323</td>\n",
              "      <td>-13.838332</td>\n",
              "      <td>-13.838332</td>\n",
              "      <td>-0.283392</td>\n",
              "      <td>30.000000</td>\n",
              "      <td>300.000000</td>\n",
              "      <td>0.000000</td>\n",
              "    </tr>\n",
              "    <tr>\n",
              "      <th>2</th>\n",
              "      <td>2</td>\n",
              "      <td>53.001810</td>\n",
              "      <td>37.491429</td>\n",
              "      <td>30.0</td>\n",
              "      <td>300.0</td>\n",
              "      <td>0.0</td>\n",
              "      <td>-2.030706</td>\n",
              "      <td>-2.030706</td>\n",
              "      <td>-4.150722</td>\n",
              "      <td>-13.980892</td>\n",
              "      <td>-13.980892</td>\n",
              "      <td>-2.208976</td>\n",
              "      <td>30.000000</td>\n",
              "      <td>300.000000</td>\n",
              "      <td>0.000000</td>\n",
              "    </tr>\n",
              "    <tr>\n",
              "      <th>3</th>\n",
              "      <td>3</td>\n",
              "      <td>56.291381</td>\n",
              "      <td>39.865238</td>\n",
              "      <td>30.0</td>\n",
              "      <td>300.0</td>\n",
              "      <td>0.0</td>\n",
              "      <td>-5.374435</td>\n",
              "      <td>-5.374435</td>\n",
              "      <td>-6.864538</td>\n",
              "      <td>-17.218590</td>\n",
              "      <td>-17.218590</td>\n",
              "      <td>-4.814726</td>\n",
              "      <td>30.000000</td>\n",
              "      <td>300.000000</td>\n",
              "      <td>0.000000</td>\n",
              "    </tr>\n",
              "    <tr>\n",
              "      <th>4</th>\n",
              "      <td>4</td>\n",
              "      <td>29.079835</td>\n",
              "      <td>33.970674</td>\n",
              "      <td>30.0</td>\n",
              "      <td>300.0</td>\n",
              "      <td>0.0</td>\n",
              "      <td>1.012832</td>\n",
              "      <td>1.012832</td>\n",
              "      <td>2.269220</td>\n",
              "      <td>-10.292661</td>\n",
              "      <td>-10.292661</td>\n",
              "      <td>4.718274</td>\n",
              "      <td>9.564515</td>\n",
              "      <td>9.564515</td>\n",
              "      <td>0.190448</td>\n",
              "    </tr>\n",
              "  </tbody>\n",
              "</table>\n",
              "</div>\n",
              "      <button class=\"colab-df-convert\" onclick=\"convertToInteractive('df-139327e9-0cca-41ea-8f19-8fc6f9827a87')\"\n",
              "              title=\"Convert this dataframe to an interactive table.\"\n",
              "              style=\"display:none;\">\n",
              "        \n",
              "  <svg xmlns=\"http://www.w3.org/2000/svg\" height=\"24px\"viewBox=\"0 0 24 24\"\n",
              "       width=\"24px\">\n",
              "    <path d=\"M0 0h24v24H0V0z\" fill=\"none\"/>\n",
              "    <path d=\"M18.56 5.44l.94 2.06.94-2.06 2.06-.94-2.06-.94-.94-2.06-.94 2.06-2.06.94zm-11 1L8.5 8.5l.94-2.06 2.06-.94-2.06-.94L8.5 2.5l-.94 2.06-2.06.94zm10 10l.94 2.06.94-2.06 2.06-.94-2.06-.94-.94-2.06-.94 2.06-2.06.94z\"/><path d=\"M17.41 7.96l-1.37-1.37c-.4-.4-.92-.59-1.43-.59-.52 0-1.04.2-1.43.59L10.3 9.45l-7.72 7.72c-.78.78-.78 2.05 0 2.83L4 21.41c.39.39.9.59 1.41.59.51 0 1.02-.2 1.41-.59l7.78-7.78 2.81-2.81c.8-.78.8-2.07 0-2.86zM5.41 20L4 18.59l7.72-7.72 1.47 1.35L5.41 20z\"/>\n",
              "  </svg>\n",
              "      </button>\n",
              "      \n",
              "  <style>\n",
              "    .colab-df-container {\n",
              "      display:flex;\n",
              "      flex-wrap:wrap;\n",
              "      gap: 12px;\n",
              "    }\n",
              "\n",
              "    .colab-df-convert {\n",
              "      background-color: #E8F0FE;\n",
              "      border: none;\n",
              "      border-radius: 50%;\n",
              "      cursor: pointer;\n",
              "      display: none;\n",
              "      fill: #1967D2;\n",
              "      height: 32px;\n",
              "      padding: 0 0 0 0;\n",
              "      width: 32px;\n",
              "    }\n",
              "\n",
              "    .colab-df-convert:hover {\n",
              "      background-color: #E2EBFA;\n",
              "      box-shadow: 0px 1px 2px rgba(60, 64, 67, 0.3), 0px 1px 3px 1px rgba(60, 64, 67, 0.15);\n",
              "      fill: #174EA6;\n",
              "    }\n",
              "\n",
              "    [theme=dark] .colab-df-convert {\n",
              "      background-color: #3B4455;\n",
              "      fill: #D2E3FC;\n",
              "    }\n",
              "\n",
              "    [theme=dark] .colab-df-convert:hover {\n",
              "      background-color: #434B5C;\n",
              "      box-shadow: 0px 1px 3px 1px rgba(0, 0, 0, 0.15);\n",
              "      filter: drop-shadow(0px 1px 2px rgba(0, 0, 0, 0.3));\n",
              "      fill: #FFFFFF;\n",
              "    }\n",
              "  </style>\n",
              "\n",
              "      <script>\n",
              "        const buttonEl =\n",
              "          document.querySelector('#df-139327e9-0cca-41ea-8f19-8fc6f9827a87 button.colab-df-convert');\n",
              "        buttonEl.style.display =\n",
              "          google.colab.kernel.accessAllowed ? 'block' : 'none';\n",
              "\n",
              "        async function convertToInteractive(key) {\n",
              "          const element = document.querySelector('#df-139327e9-0cca-41ea-8f19-8fc6f9827a87');\n",
              "          const dataTable =\n",
              "            await google.colab.kernel.invokeFunction('convertToInteractive',\n",
              "                                                     [key], {});\n",
              "          if (!dataTable) return;\n",
              "\n",
              "          const docLinkHtml = 'Like what you see? Visit the ' +\n",
              "            '<a target=\"_blank\" href=https://colab.research.google.com/notebooks/data_table.ipynb>data table notebook</a>'\n",
              "            + ' to learn more about interactive tables.';\n",
              "          element.innerHTML = '';\n",
              "          dataTable['output_type'] = 'display_data';\n",
              "          await google.colab.output.renderOutput(dataTable, element);\n",
              "          const docLink = document.createElement('div');\n",
              "          docLink.innerHTML = docLinkHtml;\n",
              "          element.appendChild(docLink);\n",
              "        }\n",
              "      </script>\n",
              "    </div>\n",
              "  </div>\n",
              "  "
            ],
            "text/plain": [
              "   index      ego_x      ego_v  f_dx  ...      l_dv       r_dx        r_dy      r_dv\n",
              "0      0  51.816071  34.006429  30.0  ...  0.154693  30.000000  300.000000  0.000000\n",
              "1      1  52.726857  35.324286  30.0  ... -0.283392  30.000000  300.000000  0.000000\n",
              "2      2  53.001810  37.491429  30.0  ... -2.208976  30.000000  300.000000  0.000000\n",
              "3      3  56.291381  39.865238  30.0  ... -4.814726  30.000000  300.000000  0.000000\n",
              "4      4  29.079835  33.970674  30.0  ...  4.718274   9.564515    9.564515  0.190448\n",
              "\n",
              "[5 rows x 15 columns]"
            ]
          },
          "metadata": {},
          "execution_count": 3
        }
      ],
      "source": [
        "import pandas as pd\n",
        "import numpy as np\n",
        "from tqdm import tqdm as tqdm\n",
        "from sklearn.preprocessing import MinMaxScaler\n",
        "import h5py\n",
        "df = pd.read_excel(full_path,parse_dates=[time_columns],nrows=nrows)\n",
        "df = df.sort_values(time_columns)\n",
        "df.index = np.arange(df.shape[0])\n",
        "df2=df.iloc[0:nrows,:]\n",
        "df2[:5]"
      ]
    },
    {
      "cell_type": "markdown",
      "metadata": {
        "id": "-Xv1LU-WSsWm"
      },
      "source": [
        "## **Trial**"
      ]
    },
    {
      "cell_type": "code",
      "execution_count": 4,
      "metadata": {
        "colab": {
          "base_uri": "https://localhost:8080/",
          "height": 0
        },
        "id": "TVy7V4IntEui",
        "outputId": "5c5cdd02-a22f-44a8-ff72-1131ea61f2c3"
      },
      "outputs": [
        {
          "output_type": "execute_result",
          "data": {
            "text/plain": [
              "<function matplotlib.pyplot.show>"
            ]
          },
          "metadata": {},
          "execution_count": 4
        },
        {
          "output_type": "display_data",
          "data": {
            "image/png": "[encoded data removed]",
            "text/plain": [
              "<Figure size 2160x864 with 1 Axes>"
            ]
          },
          "metadata": {
            "needs_background": "light"
          }
        }
      ],
      "source": [
        "from time import thread_time\n",
        "from numpy.core.numeric import NaN\n",
        "e = df2.get(label_names_1)\n",
        "e = e.values.tolist()\n",
        "# exam = []\n",
        "# for m in e:\n",
        "#   exam.append(m[0])\n",
        "# # print(exam)\n",
        "# # print(((exam)))\n",
        "# # plt.figure(figsize=(80, 12))  \n",
        "# # plt.plot(exam)\n",
        "# # plt.legend(loc='best', fontsize='12')\n",
        "# # plt.xticks(fontsize=12)\n",
        "# # plt.yticks(fontsize=12)\n",
        "# # plt.title('Lateral Position Prediction w/ Train dataset (5s Forecast)', fontsize='16')\n",
        "# # plt.xlabel('Time (s)', fontsize='14')\n",
        "# # plt.ylabel('Relative Lateral Position (m)', fontsize='14')\n",
        "# # plt.show\n",
        "# # print(len(exam))\n",
        "\n",
        "# copy = exam.copy()\n",
        "# bad_index = []\n",
        "# threshold = 3\n",
        "# for i in range(len(exam)-1):\n",
        "#   now = exam[i]\n",
        "#   nxt = exam[i+1]\n",
        "#   if abs(nxt - now) >= threshold:\n",
        "#     for j in range(i+1, len(exam)):\n",
        "#         copy[j] -= nxt-now\n",
        "# # idx = 0\n",
        "# # while idx != len(exam)-n_out-n_out:\n",
        "# #   # print(idx)\n",
        "# #   # print(abs(idx-(len(exam)-n_out-n_out)))\n",
        "# #   # sum = 0\n",
        "# #   check = False\n",
        "# #   for j in exam[idx:idx+n_out-1]:\n",
        "# #     if abs(exam[idx] - exam[idx+1]) >= threshold:\n",
        "# #       check = True\n",
        "# #       idx += n_out\n",
        "# #       break\n",
        "# #   if check == False:\n",
        "# #     dis = np.average(exam[idx:idx+n_out-1])\n",
        "# #     print(dis)\n",
        "# #     for k in range(idx, idx+n_out):\n",
        "# #       copy[k] -= dis\n",
        "# #     idx += 1\n",
        "\n",
        "\n",
        "\n",
        "# clean = [x for x in copy if x != -1000]\n",
        "# cln = []\n",
        "# for i in clean:\n",
        "#   cln.append(i[0])\n",
        "# print(cln)\n",
        "# clean = [x%10 for x in copy]\n",
        "plt.figure(figsize=(30, 12))  \n",
        "plt.plot(e[:1000])\n",
        "plt.show"
      ]
    },
    {
      "cell_type": "markdown",
      "metadata": {
        "id": "4hytiEMcSxGM"
      },
      "source": [
        "## **LSTM**"
      ]
    },
    {
      "cell_type": "code",
      "execution_count": 5,
      "metadata": {
        "id": "vXweypJ9TqT8"
      },
      "outputs": [],
      "source": [
        "# #Normalization\n",
        "# scaler_y_1 = MinMaxScaler(feature_range=(-1, 1))\n",
        "# scaler_y_1.fit(df2[label_names_1].values.astype(float))\n",
        "\n",
        "# scaler_y_2 = MinMaxScaler(feature_range=(-1, 1))\n",
        "# scaler_y_2.fit(df2[label_names_2].values.astype(float))\n",
        "\n",
        "# scaler_x = MinMaxScaler(feature_range=(-1, 1))\n",
        "# scaler_x.fit(df2[feature_names].values.astype(float))"
      ]
    },
    {
      "cell_type": "code",
      "execution_count": 6,
      "metadata": {
        "id": "ztxu1OeBTqT-"
      },
      "outputs": [],
      "source": [
        "## Create dataset\n",
        "# scaler_x_ls = []\n",
        "# scaler_y_1_ls = []\n",
        "# scaler_y_2_ls = []\n",
        "# scaler_x_ls = []\n",
        "# scaler_y1_ls = []\n",
        "scaler_ls = []\n",
        "scaler_x_ls = []\n",
        "scaler_v_ls = []\n",
        "def create_dataset(df,feature_names,label_names_1,label_names_2,n_in,n_out):\n",
        "  X, Y1, Y2 = [], [], []\n",
        "  for i in tqdm(range(df.shape[0]-n_in-n_out+1)):\n",
        "    check = df[label_names_1].values[i:i+n_in+n_out].astype(float)\n",
        "    #####################################################################\n",
        "    jump = False\n",
        "    for j in range(n_in+n_out-1):\n",
        "      if abs(check[j] - check[j+1]) > 3.6:\n",
        "        jump = True\n",
        "        break\n",
        "    if jump == True:\n",
        "      continue\n",
        "    #####################################################################\n",
        "    # x = df[feature_names].values[i:i+n_in].astype(float)\n",
        "    # label1 = df[label_names_1].values[i+n_in:i+n_in+n_out].astype(float)\n",
        "    # label2 = df[label_names_2].values[i+n_in:i+n_in+n_out].astype(float)\n",
        "    # #Normalization\n",
        "    # scaler_x = MinMaxScaler(feature_range=(-1, 1))\n",
        "    # scaler_x.fit(df[label_names_1].values[i:i+n_in].astype(float))\n",
        "    # scaler_x_ls.append(scaler_x)\n",
        "\n",
        "    # scaler_y_1 = MinMaxScaler(feature_range=(-1, 1))\n",
        "    # scaler_y_1.fit(label1)\n",
        "    # scaler_y_1_ls.append(scaler_y_1)\n",
        "\n",
        "    # scaler_y_2 = MinMaxScaler(feature_range=(-1, 1))\n",
        "    # scaler_y_2.fit(label2)\n",
        "    # scaler_y_2_ls.append(scaler_y_2)\n",
        "\n",
        "\n",
        "    # x = df[feature_names].values[i:i+n_in].astype(float)\n",
        "    # label1 = df[label_names_1].values[i+n_in:i+n_in+n_out].astype(float)\n",
        "    # label2 = df[label_names_2].values[i+n_in:i+n_in+n_out].astype(float)\n",
        "    #Normalization\n",
        "    scaler = MinMaxScaler(feature_range=(-1, 1))\n",
        "    scaler.fit(df[feature_names].values[i:i+n_in+n_out].astype(float))\n",
        "    scaler_ls.append(scaler)\n",
        "\n",
        "    scaler_x = MinMaxScaler(feature_range=(-1, 1))\n",
        "    scaler_x.fit(df[label_names_1].values[i:i+n_in+n_out].astype(float))\n",
        "    scaler_x_ls.append(scaler_x)\n",
        "\n",
        "    scaler_v = MinMaxScaler(feature_range=(-1, 1))\n",
        "    scaler_v.fit(df[label_names_2].values[i:i+n_in+n_out].astype(float))\n",
        "    scaler_v_ls.append(scaler_v)\n",
        "\n",
        "    # scaler_y_1 = MinMaxScaler(feature_range=(-1, 1))\n",
        "    # scaler_y_1.fit(label1)\n",
        "    # scaler_y_1_ls.append(scaler_y_1)\n",
        "\n",
        "    # scaler_y_2 = MinMaxScaler(feature_range=(-1, 1))\n",
        "    # scaler_y_2.fit(label2)\n",
        "    # scaler_y_2_ls.append(scaler_y_2)\n",
        "    #####################################################################\n",
        "    batch = df[feature_names].values[i:i+n_in+n_out].astype(float)\n",
        "    batch = scaler.transform(batch)\n",
        "\n",
        "    label1 = df[label_names_1].values[i:i+n_in+n_out].astype(float)\n",
        "    label1 = scaler_x.transform(label1)\n",
        "\n",
        "    label2 = df[label_names_2].values[i:i+n_in+n_out].astype(float)\n",
        "    label2 = scaler_v.transform(label2)\n",
        "\n",
        "    x  = batch[:n_in]\n",
        "    label1 = label1[n_in:n_in+n_out]\n",
        "    label2 = label2[n_in:n_in+n_out]\n",
        "    # print((batch))\n",
        "    # print((\"\\n\"))\n",
        "    # return 0\n",
        "    # x = df[feature_names].values[i:i+n_in+n_out].astype(float)\n",
        "    # label1 = df[label_names_1].values[i:i+n_in+n_out].astype(float)\n",
        "    # label2 = df[label_names_2].values[i:i+n_in+n_out].astype(float)\n",
        "    # x = scaler.transform(x)[:n_in]\n",
        "    # label1 = scaler.transform(label1)[n_in:n_in+n_out]\n",
        "    # label2 = scaler.transform(label2)[n_in:n_in+n_out]\n",
        "    # label1 = scaler.transform(label1)\n",
        "    # label2 = scaler.transform(label2)\n",
        "    # x = batch\n",
        "    #####################################################################\n",
        "    X.append(x)\n",
        "    Y1.append(label1)\n",
        "    Y2.append(label2)\n",
        "  return np.array(X),np.array(Y1),np.array(Y2)"
      ]
    },
    {
      "cell_type": "code",
      "execution_count": 7,
      "metadata": {
        "colab": {
          "base_uri": "https://localhost:8080/"
        },
        "id": "H2hFgmb5TqT_",
        "outputId": "9dddba68-c355-4b64-e107-e0ea7e26e570"
      },
      "outputs": [
        {
          "output_type": "stream",
          "name": "stderr",
          "text": [
            "100%|██████████| 99985/99985 [15:47<00:00, 105.49it/s]\n"
          ]
        }
      ],
      "source": [
        "X_1,Y1,Y2 = create_dataset(df2,feature_names,label_names_1,label_names_2,n_in,n_out)"
      ]
    },
    {
      "cell_type": "code",
      "execution_count": 8,
      "metadata": {
        "colab": {
          "base_uri": "https://localhost:8080/"
        },
        "id": "A7bRN7DRTqT_",
        "outputId": "926d59d7-bdea-4752-e697-fb84f7479063"
      },
      "outputs": [
        {
          "output_type": "stream",
          "name": "stdout",
          "text": [
            "(65365, 10, 14) (16342, 10, 14) (65365, 6, 1) (16342, 6, 1) (65365, 6, 1) (16342, 6, 1)\n"
          ]
        }
      ],
      "source": [
        "x1_train, x1_test = X_1[:int(len(X_1)*0.8)], X_1[int(len(X_1)*0.8):]\n",
        "y1_train, y1_test = Y1[:int(len(Y1)*0.8)], Y1[int(len(Y1)*0.8):]\n",
        "y2_train, y2_test = Y2[:int(len(Y2)*0.8)], Y2[int(len(Y2)*0.8):]\n",
        "print(x1_train.shape,x1_test.shape,y1_train.shape,y1_test.shape,y2_train.shape,y2_test.shape)"
      ]
    },
    {
      "cell_type": "code",
      "execution_count": null,
      "metadata": {
        "colab": {
          "base_uri": "https://localhost:8080/"
        },
        "id": "PHY5_TMKTqUB",
        "outputId": "8ec890f7-4adf-4e1d-c4f4-3fb51a211f34"
      },
      "outputs": [
        {
          "output_type": "stream",
          "name": "stdout",
          "text": [
            "Epoch 1/200\n",
            "511/511 [==============================] - 46s 76ms/step - loss: 0.1081\n",
            "Epoch 2/200\n",
            "511/511 [==============================] - 39s 76ms/step - loss: 0.0691\n",
            "Epoch 3/200\n",
            "511/511 [==============================] - 39s 76ms/step - loss: 0.0599\n",
            "Epoch 4/200\n",
            "511/511 [==============================] - 39s 76ms/step - loss: 0.0549\n",
            "Epoch 5/200\n",
            "511/511 [==============================] - 39s 76ms/step - loss: 0.0512\n",
            "Epoch 6/200\n",
            "511/511 [==============================] - 39s 76ms/step - loss: 0.0481\n",
            "Epoch 7/200\n",
            "511/511 [==============================] - 39s 76ms/step - loss: 0.0463\n",
            "Epoch 8/200\n",
            "511/511 [==============================] - 39s 76ms/step - loss: 0.0439\n",
            "Epoch 9/200\n",
            "511/511 [==============================] - 39s 76ms/step - loss: 0.0421\n",
            "Epoch 10/200\n",
            "511/511 [==============================] - 39s 76ms/step - loss: 0.0405\n",
            "Epoch 11/200\n",
            "511/511 [==============================] - 39s 76ms/step - loss: 0.0382\n",
            "Epoch 12/200\n",
            "511/511 [==============================] - 39s 76ms/step - loss: 0.0367\n",
            "Epoch 13/200\n",
            "511/511 [==============================] - 39s 76ms/step - loss: 0.0345\n",
            "Epoch 14/200\n",
            "511/511 [==============================] - 39s 76ms/step - loss: 0.0327\n",
            "Epoch 15/200\n",
            "511/511 [==============================] - 39s 76ms/step - loss: 0.0309\n",
            "Epoch 16/200\n",
            "511/511 [==============================] - 39s 76ms/step - loss: 0.0290\n",
            "Epoch 17/200\n",
            "511/511 [==============================] - 38s 75ms/step - loss: 0.0271\n",
            "Epoch 18/200\n",
            "511/511 [==============================] - 39s 75ms/step - loss: 0.0260\n",
            "Epoch 19/200\n",
            "511/511 [==============================] - 39s 75ms/step - loss: 0.0243\n",
            "Epoch 20/200\n",
            "511/511 [==============================] - 39s 76ms/step - loss: 0.0230\n",
            "Epoch 21/200\n",
            "511/511 [==============================] - 39s 76ms/step - loss: 0.0215\n",
            "Epoch 22/200\n",
            "511/511 [==============================] - 39s 76ms/step - loss: 0.0202\n",
            "Epoch 23/200\n",
            "511/511 [==============================] - 39s 76ms/step - loss: 0.0193\n",
            "Epoch 24/200\n",
            "511/511 [==============================] - 38s 75ms/step - loss: 0.0182\n",
            "Epoch 25/200\n",
            "511/511 [==============================] - 38s 75ms/step - loss: 0.0173\n",
            "Epoch 26/200\n",
            "511/511 [==============================] - 38s 75ms/step - loss: 0.0164\n",
            "Epoch 27/200\n",
            "511/511 [==============================] - 38s 75ms/step - loss: 0.0156\n",
            "Epoch 28/200\n",
            "511/511 [==============================] - 39s 76ms/step - loss: 0.0149\n",
            "Epoch 29/200\n",
            "511/511 [==============================] - 39s 76ms/step - loss: 0.0140\n",
            "Epoch 30/200\n",
            "511/511 [==============================] - 39s 76ms/step - loss: 0.0135\n",
            "Epoch 31/200\n",
            "511/511 [==============================] - 39s 77ms/step - loss: 0.0130\n",
            "Epoch 32/200\n",
            "511/511 [==============================] - 40s 78ms/step - loss: 0.0123\n",
            "Epoch 33/200\n",
            "511/511 [==============================] - 39s 76ms/step - loss: 0.0119\n",
            "Epoch 34/200\n",
            "511/511 [==============================] - 39s 76ms/step - loss: 0.0114\n",
            "Epoch 35/200\n",
            "511/511 [==============================] - 39s 77ms/step - loss: 0.0110\n",
            "Epoch 36/200\n",
            "511/511 [==============================] - 39s 76ms/step - loss: 0.0105\n",
            "Epoch 37/200\n",
            "511/511 [==============================] - 39s 76ms/step - loss: 0.0101\n",
            "Epoch 38/200\n",
            "511/511 [==============================] - 39s 76ms/step - loss: 0.0098\n",
            "Epoch 39/200\n",
            "511/511 [==============================] - 40s 77ms/step - loss: 0.0095\n",
            "Epoch 40/200\n",
            "511/511 [==============================] - 39s 77ms/step - loss: 0.0091\n",
            "Epoch 41/200\n",
            "511/511 [==============================] - 39s 77ms/step - loss: 0.0089\n",
            "Epoch 42/200\n",
            "511/511 [==============================] - 39s 77ms/step - loss: 0.0085\n",
            "Epoch 43/200\n",
            "511/511 [==============================] - 39s 77ms/step - loss: 0.0084\n",
            "Epoch 44/200\n",
            "511/511 [==============================] - 39s 76ms/step - loss: 0.0079\n",
            "Epoch 45/200\n",
            "511/511 [==============================] - 39s 76ms/step - loss: 0.0077\n",
            "Epoch 46/200\n",
            "511/511 [==============================] - 39s 76ms/step - loss: 0.0076\n",
            "Epoch 47/200\n",
            "511/511 [==============================] - 39s 76ms/step - loss: 0.0075\n",
            "Epoch 48/200\n",
            "511/511 [==============================] - 39s 76ms/step - loss: 0.0074\n",
            "Epoch 49/200\n",
            "511/511 [==============================] - 39s 76ms/step - loss: 0.0069\n",
            "Epoch 50/200\n",
            "511/511 [==============================] - 39s 76ms/step - loss: 0.0067\n",
            "Epoch 51/200\n",
            "511/511 [==============================] - 39s 77ms/step - loss: 0.0067\n",
            "Epoch 52/200\n",
            "511/511 [==============================] - 39s 76ms/step - loss: 0.0064\n",
            "Epoch 53/200\n",
            "511/511 [==============================] - 39s 76ms/step - loss: 0.0063\n",
            "Epoch 54/200\n",
            "511/511 [==============================] - 39s 76ms/step - loss: 0.0061\n",
            "Epoch 55/200\n",
            "511/511 [==============================] - 39s 76ms/step - loss: 0.0060\n",
            "Epoch 56/200\n",
            "511/511 [==============================] - 39s 76ms/step - loss: 0.0059\n",
            "Epoch 57/200\n",
            "511/511 [==============================] - 39s 76ms/step - loss: 0.0059\n",
            "Epoch 58/200\n",
            "511/511 [==============================] - 39s 76ms/step - loss: 0.0057\n",
            "Epoch 59/200\n",
            "511/511 [==============================] - 39s 77ms/step - loss: 0.0054\n",
            "Epoch 60/200\n",
            "511/511 [==============================] - 39s 76ms/step - loss: 0.0054\n",
            "Epoch 61/200\n",
            "511/511 [==============================] - 39s 76ms/step - loss: 0.0054\n",
            "Epoch 62/200\n",
            "511/511 [==============================] - 39s 76ms/step - loss: 0.0053\n",
            "Epoch 63/200\n",
            "511/511 [==============================] - 39s 76ms/step - loss: 0.0050\n",
            "Epoch 64/200\n",
            "511/511 [==============================] - 39s 76ms/step - loss: 0.0049\n",
            "Epoch 65/200\n",
            "511/511 [==============================] - 39s 76ms/step - loss: 0.0049\n",
            "Epoch 66/200\n",
            "511/511 [==============================] - 39s 76ms/step - loss: 0.0048\n",
            "Epoch 67/200\n",
            "511/511 [==============================] - 39s 77ms/step - loss: 0.0048\n",
            "Epoch 68/200\n",
            "511/511 [==============================] - 39s 76ms/step - loss: 0.0047\n",
            "Epoch 69/200\n",
            "511/511 [==============================] - 39s 77ms/step - loss: 0.0047\n",
            "Epoch 70/200\n",
            "511/511 [==============================] - 39s 76ms/step - loss: 0.0045\n",
            "Epoch 71/200\n",
            "511/511 [==============================] - 39s 76ms/step - loss: 0.0044\n",
            "Epoch 72/200\n",
            "511/511 [==============================] - 39s 76ms/step - loss: 0.0044\n",
            "Epoch 73/200\n",
            "511/511 [==============================] - 39s 77ms/step - loss: 0.0042\n",
            "Epoch 74/200\n",
            "511/511 [==============================] - 39s 77ms/step - loss: 0.0043\n",
            "Epoch 75/200\n",
            "511/511 [==============================] - 39s 77ms/step - loss: 0.0041\n",
            "Epoch 76/200\n",
            "511/511 [==============================] - 39s 76ms/step - loss: 0.0041\n",
            "Epoch 77/200\n",
            "511/511 [==============================] - 39s 77ms/step - loss: 0.0040\n",
            "Epoch 78/200\n",
            "511/511 [==============================] - 39s 76ms/step - loss: 0.0040\n",
            "Epoch 79/200\n",
            "511/511 [==============================] - 39s 77ms/step - loss: 0.0040\n",
            "Epoch 80/200\n",
            "511/511 [==============================] - 40s 78ms/step - loss: 0.0038\n",
            "Epoch 81/200\n",
            "511/511 [==============================] - 39s 77ms/step - loss: 0.0038\n",
            "Epoch 82/200\n",
            "511/511 [==============================] - 39s 76ms/step - loss: 0.0040\n",
            "Epoch 83/200\n",
            "511/511 [==============================] - 39s 76ms/step - loss: 0.0036\n",
            "Epoch 84/200\n",
            "511/511 [==============================] - 39s 76ms/step - loss: 0.0035\n",
            "Epoch 85/200\n",
            "511/511 [==============================] - 39s 76ms/step - loss: 0.0036\n",
            "Epoch 86/200\n",
            "511/511 [==============================] - 39s 77ms/step - loss: 0.0036\n",
            "Epoch 87/200\n",
            "511/511 [==============================] - 39s 77ms/step - loss: 0.0035\n",
            "Epoch 88/200\n",
            "511/511 [==============================] - 40s 78ms/step - loss: 0.0038\n",
            "Epoch 89/200\n",
            "511/511 [==============================] - 40s 78ms/step - loss: 0.0033\n",
            "Epoch 90/200\n",
            "511/511 [==============================] - 39s 77ms/step - loss: 0.0033\n",
            "Epoch 91/200\n",
            "511/511 [==============================] - 39s 77ms/step - loss: 0.0033\n",
            "Epoch 92/200\n",
            "511/511 [==============================] - 39s 77ms/step - loss: 0.0034\n",
            "Epoch 93/200\n",
            "511/511 [==============================] - 39s 76ms/step - loss: 0.0033\n",
            "Epoch 94/200\n",
            "511/511 [==============================] - 39s 76ms/step - loss: 0.0032\n",
            "Epoch 95/200\n",
            "511/511 [==============================] - 39s 77ms/step - loss: 0.0032\n",
            "Epoch 96/200\n",
            "511/511 [==============================] - 39s 76ms/step - loss: 0.0032\n",
            "Epoch 97/200\n",
            "511/511 [==============================] - 39s 76ms/step - loss: 0.0032\n",
            "Epoch 98/200\n",
            "511/511 [==============================] - 39s 77ms/step - loss: 0.0031\n",
            "Epoch 99/200\n",
            "511/511 [==============================] - 39s 77ms/step - loss: 0.0030\n",
            "Epoch 100/200\n",
            "511/511 [==============================] - 39s 77ms/step - loss: 0.0030\n",
            "Epoch 101/200\n",
            "511/511 [==============================] - 39s 76ms/step - loss: 0.0031\n",
            "Epoch 102/200\n",
            "511/511 [==============================] - 39s 77ms/step - loss: 0.0030\n",
            "Epoch 103/200\n",
            "511/511 [==============================] - 39s 76ms/step - loss: 0.0030\n",
            "Epoch 104/200\n",
            "511/511 [==============================] - 39s 77ms/step - loss: 0.0029\n",
            "Epoch 105/200\n",
            "511/511 [==============================] - 39s 76ms/step - loss: 0.0028\n",
            "Epoch 106/200\n",
            "511/511 [==============================] - 39s 76ms/step - loss: 0.0028\n",
            "Epoch 107/200\n",
            "511/511 [==============================] - 39s 76ms/step - loss: 0.0028\n",
            "Epoch 108/200\n",
            "511/511 [==============================] - 39s 76ms/step - loss: 0.0029\n",
            "Epoch 109/200\n",
            "511/511 [==============================] - 39s 76ms/step - loss: 0.0029\n",
            "Epoch 110/200\n",
            "511/511 [==============================] - 38s 75ms/step - loss: 0.0028\n",
            "Epoch 111/200\n",
            "511/511 [==============================] - 39s 76ms/step - loss: 0.0027\n",
            "Epoch 112/200\n",
            "511/511 [==============================] - 39s 76ms/step - loss: 0.0027\n",
            "Epoch 113/200\n",
            "296/511 [================>.............] - ETA: 16s - loss: 0.0027"
          ]
        }
      ],
      "source": [
        "# out=5,y1 ae-lstm\n",
        "from keras.models import Sequential\n",
        "from keras.layers import Dense\n",
        "from keras.layers import LSTM\n",
        "from keras.layers import Dropout\n",
        "from keras.layers import RepeatVector,TimeDistributed\n",
        "y1_train=y1_train.reshape((y1_train.shape[0],y1_train.shape[1]))\n",
        "# Initialising the RNN\n",
        "regressor_x = Sequential()\n",
        "\n",
        "# Adding the first LSTM layer and some Dropout regularisation\n",
        "layer_1_units=100\n",
        "regressor_x.add(Bidirectional(LSTM(units = layer_1_units, input_shape = (x1_train.shape[1], x1_train.shape[2]))))\n",
        "regressor_x.add(RepeatVector(n_out))\n",
        "regressor_x.add(Bidirectional(LSTM(layer_1_units, activation='relu', return_sequences=True)))\n",
        "regressor_x.add(TimeDistributed(Dense(1)))\n",
        "\n",
        "# regressor.add(Dense(units =(y_train.shape[1], y_train.shape[2])))\n",
        "\n",
        "# Compiling the RNN\n",
        "regressor_x.compile(optimizer = 'adam', loss = 'mean_squared_error')\n",
        "\n",
        "# Fitting the RNN to the Training set\n",
        "# epoch_no=20\n",
        "# batch_size_RNN=64\n",
        "model_x = regressor_x.fit(x1_train, y1_train, epochs = epoch_no, batch_size = batch_size_RNN)"
      ]
    },
    {
      "cell_type": "code",
      "execution_count": null,
      "metadata": {
        "colab": {
          "background_save": true
        },
        "id": "ir1yfyUxYRw9"
      },
      "outputs": [],
      "source": [
        "# out=10,y2 ae-lstm\n",
        "from keras.models import Sequential\n",
        "from keras.layers import Dense\n",
        "from keras.layers import LSTM\n",
        "from keras.layers import Dropout\n",
        "from keras.layers import RepeatVector,TimeDistributed\n",
        "y2_train=y2_train.reshape((y2_train.shape[0],y2_train.shape[1]))\n",
        "# Initialising the RNN\n",
        "regressor_v = Sequential()\n",
        "\n",
        "# Adding the first LSTM layer and some Dropout regularisation\n",
        "layer_1_units=100\n",
        "regressor_v.add(Bidirectional(LSTM(units = layer_1_units, input_shape = (x1_train.shape[1], x1_train.shape[2]))))\n",
        "regressor_v.add(RepeatVector(n_out))\n",
        "regressor_v.add(Bidirectional(LSTM(layer_1_units, activation='relu', return_sequences=True)))\n",
        "regressor_v.add(TimeDistributed(Dense(1)))\n",
        "\n",
        "# regressor.add(Dense(units =(y_train.shape[1], y_train.shape[2])))\n",
        "\n",
        "# Compiling the RNN\n",
        "regressor_v.compile(optimizer = 'adam', loss = 'mean_squared_error')\n",
        "\n",
        "# Fitting the RNN to the Training set\n",
        "# epoch_no=20\n",
        "# batch_size_RNN=64\n",
        "model_v = regressor_v.fit(x1_train, y2_train, epochs = epoch_no, batch_size = batch_size_RNN)"
      ]
    },
    {
      "cell_type": "code",
      "execution_count": null,
      "metadata": {
        "colab": {
          "background_save": true
        },
        "id": "3SrQqTxJTqUE"
      },
      "outputs": [],
      "source": [
        "trainPredict_x = regressor_x.predict(x1_train)\n",
        "trainPredict_v = regressor_v.predict(x1_train)\n",
        "\n",
        "trainPredict_x = trainPredict_x.reshape(trainPredict_x.shape[0],trainPredict_x.shape[1])\n",
        "trainPredict_v = trainPredict_v.reshape(trainPredict_v.shape[0],trainPredict_v.shape[1])\n",
        "\n",
        "# y1_train_cnt =  scaler_y_1.inverse_transform(y1_train.reshape(-1, n_out))\n",
        "# y2_train_cnt =  scaler_y_2.inverse_transform(y2_train.reshape(-1, n_out))\n",
        "\n",
        "# trainPredict_x_cnt = scaler_y_1.inverse_transform(trainPredict_x)\n",
        "# trainPredict_v_cnt = scaler_y_2.inverse_transform(trainPredict_v)"
      ]
    },
    {
      "cell_type": "code",
      "execution_count": null,
      "metadata": {
        "id": "h490EzvU9mLf"
      },
      "outputs": [],
      "source": [
        "test_len = len(scaler_x_ls[np.shape(trainPredict_x)[0]:])\n",
        "\n",
        "y1_test_cnt = np.empty([len(scaler_x_ls[np.shape(trainPredict_x)[0]:]), n_out])\n",
        "y2_test_cnt = np.empty([len(scaler_v_ls[np.shape(trainPredict_x)[0]:]), n_out])\n",
        "\n",
        "testPredict_x_cnt = np.empty([len(scaler_x_ls[np.shape(trainPredict_x)[0]:]), n_out])\n",
        "testPredict_v_cnt = np.empty([len(scaler_v_ls[np.shape(trainPredict_x)[0]:]), n_out])\n",
        "\n",
        "testPredict_x = regressor_x.predict(x1_test)\n",
        "testPredict_v = regressor_v.predict(x1_test)\n",
        "testPredict_x = testPredict_x.reshape(testPredict_x.shape[0],testPredict_x.shape[1])\n",
        "testPredict_v = testPredict_v.reshape(testPredict_v.shape[0],testPredict_v.shape[1])\n",
        "\n",
        "for i in range(len(scaler_x_ls[np.shape(trainPredict_x)[0]:])):\n",
        "  y1_test_cnt[i] = scaler_x_ls[i + test_len].inverse_transform(y1_test.reshape(-1, n_out)[i].reshape(-1, 1)).reshape(1,-1)\n",
        "  y2_test_cnt[i] = scaler_v_ls[i + test_len].inverse_transform(y2_test.reshape(-1, n_out)[i].reshape(-1, 1)).reshape(1,-1)\n",
        "  testPredict_x_cnt[i] = scaler_x_ls[i + test_len].inverse_transform(testPredict_x[i].reshape(-1, 1)).reshape(1,-1)\n",
        "  testPredict_v_cnt[i] = scaler_v_ls[i + test_len].inverse_transform(testPredict_v[i].reshape(-1, 1)).reshape(1,-1)"
      ]
    },
    {
      "cell_type": "code",
      "execution_count": null,
      "metadata": {
        "id": "ahwAgkLlb_eG"
      },
      "outputs": [],
      "source": [
        "# testPredict_x = regressor_x.predict(x1_test)\n",
        "# testPredict_v = regressor_v.predict(x1_test)\n",
        "\n",
        "# testPredict_x = testPredict_x.reshape(testPredict_x.shape[0],testPredict_x.shape[1])\n",
        "# testPredict_v = testPredict_v.reshape(testPredict_v.shape[0],testPredict_v.shape[1])\n",
        "\n",
        "# y1_test_cnt =  scaler_y_1.inverse_transform(y1_test.reshape(-1, n_out))\n",
        "# y2_test_cnt =  scaler_y_2.inverse_transform(y2_test.reshape(-1, n_out))\n",
        "\n",
        "# testPredict_x_cnt = scaler_y_1.inverse_transform(testPredict_x)\n",
        "# testPredict_v_cnt = scaler_y_2.inverse_transform(testPredict_v)"
      ]
    },
    {
      "cell_type": "markdown",
      "metadata": {
        "id": "UsR9bUcuF1V4"
      },
      "source": [
        "# **Train**"
      ]
    },
    {
      "cell_type": "code",
      "execution_count": null,
      "metadata": {
        "id": "m42iJnT0Irtx"
      },
      "outputs": [],
      "source": [
        "start = 0\n",
        "end = 2000\n",
        "duration = end - start + 1\n",
        "plt.figure(figsize=(20, 12))  \n",
        "plt.plot(range(1,duration),y1_train_cnt[start:end,0]/3.28084,'green',label='GT',linewidth = 3, alpha=0.6)\n",
        "plt.plot(range(n_out+1,duration + n_out),trainPredict_x_cnt[start:end,n_out-1]/3.28084,'blue',label='Prediction at 5s',linewidth = 3, alpha=0.3)\n",
        "# m = 1\n",
        "# for i in range(start,end,2):\n",
        "#   traj = np.insert(trainPredict_x_cnt[i][:n_out], 0, y1_train_cnt[start:end,0][m-1], axis=0)\n",
        "#   plt.plot(range(m,m+n_out+1),traj/3.28084,'gray', alpha=0.6)\n",
        "#   m = m + 2\n",
        "plt.legend(loc='best', fontsize='12')\n",
        "plt.xticks(fontsize=12)\n",
        "plt.yticks(fontsize=12)\n",
        "plt.title('Lateral Position Prediction w/ Train dataset (5s Forecast)', fontsize='16')\n",
        "plt.xlabel('Time (s)', fontsize='14')\n",
        "plt.ylabel('Relative Lateral Position (m)', fontsize='14')\n",
        "plt.show"
      ]
    },
    {
      "cell_type": "code",
      "execution_count": null,
      "metadata": {
        "id": "t5S7EvXesIIS"
      },
      "outputs": [],
      "source": [
        "plt.figure(figsize=(20, 12))  \n",
        "plt.plot(range(1,duration),y2_train_cnt[start:end,0]*1.09728,'green',label='GT',linewidth = 3, alpha=0.6)\n",
        "plt.plot(range(1+n_out,duration+n_out),trainPredict_v_cnt[start:end,n_out-1]*1.09728,'blue',label='Prediction at 5s',linewidth = 3, alpha=0.3)\n",
        "# m = 1\n",
        "# for i in range(start,end,2):\n",
        "#   traj = np.insert(trainPredict_v_cnt[i][:], 0, y2_train_cnt[start:end,0][m-1], axis=0)\n",
        "#   plt.plot(range(m,m+n_out+1),traj*1.09728,'gray', alpha=0.6)\n",
        "#   m = m + 2\n",
        "plt.legend(loc='best', fontsize='12')\n",
        "plt.xticks(fontsize=12)\n",
        "plt.yticks(fontsize=12)\n",
        "plt.title('Longitudinal Velocity Prediction w/ Train dataset (5s Forecast)', fontsize='16')\n",
        "plt.xlabel('Time (s)', fontsize='14')\n",
        "plt.ylabel('Longitudinal Velocity (km/h)', fontsize='14')\n",
        "plt.show"
      ]
    },
    {
      "cell_type": "markdown",
      "metadata": {
        "id": "yJdZiSgqF4S6"
      },
      "source": [
        "# **Test**"
      ]
    },
    {
      "cell_type": "code",
      "execution_count": null,
      "metadata": {
        "id": "3HOXJhgx7Pgs"
      },
      "outputs": [],
      "source": [
        "start = 4208\n",
        "end = 4450\n",
        "\n",
        "# start = 12000\n",
        "# end = 12200\n",
        "\n",
        "\n",
        "# start = 15994\n",
        "# end = 16127\n",
        "duration = end - start + 1\n",
        "plt.figure(figsize=(20, 12))  \n",
        "plt.plot(range(1,duration),y1_test_cnt[start:end,0]/3.28084,'green',label='Ground Truth',linewidth = 3, alpha=0.6)\n",
        "# plt.plot(range(1+n_out,duration+n_out),testPredict_x_cnt[start:end,n_out-1]/3.28084,'blue',label='Prediction at ' +str(n_out)+'th-sec',linewidth = 3, alpha=0.2)\n",
        "m = 1\n",
        "for i in range(start,end,4):\n",
        "  traj = np.insert(testPredict_x_cnt[i][:], 0, y1_test_cnt[start:end,0][m-1], axis=0)\n",
        "  if m == 1:\n",
        "    plt.plot(range(m,m+n_out+1),traj/3.28084,'gray', label='Trajectory Prediction',linewidth = 1.5, alpha=0.6)\n",
        "  else:\n",
        "    plt.plot(range(m,m+n_out+1),traj/3.28084,'gray', linewidth = 1.5, alpha=0.6)\n",
        "  m = m + 4\n",
        "plt.legend(loc='best', fontsize='12')\n",
        "plt.xticks(fontsize=12)\n",
        "plt.yticks(fontsize=12)\n",
        "plt.title(\"Lateral Position Prediction (\"+ str(n_out) +\"s forecast based on past \" + str(n_in) + \"s)\", fontsize='16')\n",
        "plt.xlabel('Time (s)', fontsize='14')\n",
        "plt.ylabel('Relative Lateral Position (m)', fontsize='14')\n",
        "plt.show"
      ]
    },
    {
      "cell_type": "code",
      "execution_count": null,
      "metadata": {
        "id": "kqHwAbqs7Poa"
      },
      "outputs": [],
      "source": [
        "plt.figure(figsize=(20, 12))  \n",
        "plt.plot(range(1,duration),y2_test_cnt[start:end,0]*1.09728/3.6,'green',label='GT',linewidth = 3, alpha=0.6)\n",
        "# plt.plot(range(1+n_out,duration+n_out),testPredict_v_cnt[start:end,n_out-1]*1.09728,'blue',label='Prediction at ' +str(n_out)+'s',linewidth = 3, alpha=0.3)\n",
        "\n",
        "m = 1\n",
        "for i in range(start,end,4):\n",
        "  traj = np.insert(testPredict_v_cnt[i][:], 0, y2_test_cnt[start:end,0][m-1], axis=0)\n",
        "  if m == 1:\n",
        "    plt.plot(range(m,m+n_out+1),traj*1.09728/3.6,'gray', label='Trajectory Prediction',linewidth = 1.5, alpha=0.6)\n",
        "  else:\n",
        "    plt.plot(range(m,m+n_out+1),traj*1.09728/3.6,'gray', linewidth = 1.5, alpha=0.6)\n",
        "  m = m + 4\n",
        "plt.legend(loc='best', fontsize='12')\n",
        "plt.xticks(fontsize=12)\n",
        "plt.yticks(fontsize=12)\n",
        "plt.title(\"Longitudinal Speed Prediction (\"+ str(n_out) +\"s forecast based on past \" + str(n_in) + \"s)\", fontsize='16')\n",
        "plt.xlabel('Time (s)', fontsize='14')\n",
        "plt.ylabel('Longitudinal Speed (m/s)', fontsize='14')\n",
        "plt.show"
      ]
    },
    {
      "cell_type": "code",
      "execution_count": null,
      "metadata": {
        "id": "Yw26Lb152Zp6"
      },
      "outputs": [],
      "source": [
        "regressor_x.save('model_x_10_10.h5')\n",
        "regressor_v.save('model_v_10_10.h5')  "
      ]
    },
    {
      "cell_type": "code",
      "execution_count": null,
      "metadata": {
        "id": "-lPIFC54kZ4c"
      },
      "outputs": [],
      "source": [
        "from sklearn.metrics import mean_squared_error\n",
        "from math import sqrt\n",
        "rms_x = sqrt(mean_squared_error(y1_test_cnt[:,n_out-1]/3.28084, testPredict_x_cnt[:,n_out-1]/3.28084))\n",
        "rms_v = sqrt(mean_squared_error(y2_test_cnt[:,n_out-1]*1.09728, testPredict_v_cnt[:,n_out-1]*1.09728))\n",
        "print(\"Lateral position prediction RMSE at \" + str(n_out) + \"-th second is \"+ str(np.around(rms_x, 2)) + \" m\")\n",
        "print(\"Longitudinal speed prediction RMSE at \" + str(n_out) + \"-th second is \"+ str(np.around(rms_v/3.6, 2)) + \" m/s\")"
      ]
    },
    {
      "cell_type": "code",
      "execution_count": null,
      "metadata": {
        "id": "opcZsnq2Rgp-"
      },
      "outputs": [],
      "source": [
        "rms_x_ls, rms_v_ls = [],[]\n",
        "for i in range(0, n_out):\n",
        "  rms_x_ls.append(sqrt(mean_squared_error(y1_test_cnt[:,i]/3.28084, testPredict_x_cnt[:,i]/3.28084)))\n",
        "  rms_v_ls.append(sqrt(mean_squared_error(y2_test_cnt[:,i]*1.09728/3.6, testPredict_v_cnt[:,i]*1.09728/3.6)))"
      ]
    },
    {
      "cell_type": "code",
      "execution_count": null,
      "metadata": {
        "id": "WUTFxLrhnzSB"
      },
      "outputs": [],
      "source": [
        "plt.figure(figsize=(10, 5))  \n",
        "plt.plot(range(1,n_out+1),rms_x_ls,'green',label='RMS Lateral Pos',linewidth = 3, alpha=0.6)\n",
        "plt.legend(loc='best', fontsize='12')\n",
        "plt.xticks(fontsize=12)\n",
        "plt.yticks(fontsize=12)\n",
        "plt.title('RMSE Trend for '+str(n_out)+\" sec prediction based on past \"+str(n_in)+\" sec\", fontsize='16')\n",
        "plt.xlabel('Time (s)', fontsize='14')\n",
        "plt.ylabel('RMSE (m)', fontsize='14')\n",
        "plt.show"
      ]
    },
    {
      "cell_type": "code",
      "execution_count": null,
      "metadata": {
        "id": "XjzGKWRagaQy"
      },
      "outputs": [],
      "source": [
        "rms_x_ls"
      ]
    },
    {
      "cell_type": "code",
      "execution_count": null,
      "metadata": {
        "id": "jcVNwCCgThTC"
      },
      "outputs": [],
      "source": [
        "plt.figure(figsize=(10, 5))  \n",
        "plt.plot(range(1,n_out+1),rms_v_ls,'blue',label='RMS Longitudinal Spd',linewidth = 3, alpha=0.6)\n",
        "plt.legend(loc='best', fontsize='12')\n",
        "plt.xticks(fontsize=12)\n",
        "plt.yticks(fontsize=12)\n",
        "plt.title('RMS Trend for '+str(n_out)+\" sec prediction based on past \"+str(n_in)+\" sec\", fontsize='16')\n",
        "plt.xlabel('Time (s)', fontsize='14')\n",
        "plt.ylabel('RMSE (m/s)', fontsize='14')\n",
        "plt.show"
      ]
    },
    {
      "cell_type": "code",
      "execution_count": null,
      "metadata": {
        "id": "guHuNAy0geD0"
      },
      "outputs": [],
      "source": [
        "rms_v_ls"
      ]
    },
    {
      "cell_type": "code",
      "execution_count": null,
      "metadata": {
        "id": "quqAqpSnT0B5"
      },
      "outputs": [],
      "source": [
        "result_x_paper = [0.46, 0.52, 0.61, 0.68]\n",
        "result_x_10 = [0.19, 0.23, 0.24, 0.31]\n",
        "# result_x_6 = [0.23, 0.35, 0.46, 0.57]\n",
        "# result_x_4 = [0.24, 0.36, 0.46, 0.57]\n",
        "t = [4, 6, 8, 10]\n",
        "plt.figure(figsize=(12, 6))  \n",
        "plt.plot(t,result_x_paper,'grey',label='ByPass LSTM (Ref.): Input = 10s',linewidth = 3, alpha=0.9)\n",
        "plt.plot(t,result_x_10,'blue',label='AE-BiLSTM: Input = 10s',linewidth = 3, alpha=0.5)\n",
        "# plt.plot(t,result_x_6,'magenta',label='AE-BiLSTM: Input = 6s',linewidth = 3, alpha=0.5)\n",
        "plt.legend(loc='best', fontsize='12')\n",
        "plt.xticks(fontsize=12)\n",
        "plt.yticks(fontsize=12)\n",
        "plt.title('Lane-changing (lateral position) prediction w/ different input sizes', fontsize='16')\n",
        "plt.xlabel('Prediction at i-th second', fontsize='14')\n",
        "plt.ylabel('RMS (m)', fontsize='14')\n",
        "plt.show"
      ]
    },
    {
      "cell_type": "code",
      "execution_count": null,
      "metadata": {
        "id": "fhfcT2WFMlQJ"
      },
      "outputs": [],
      "source": [
        "result_v_paper = [1.26, 1.76, 2.30, 2.78]\n",
        "result_v_10 = [0.81, 1.46, 2.12, 2.74]\n",
        "result_v_6 = [0.74, 1.39, 2.11, 2.71]\n",
        "t = [4, 6, 8, 10]\n",
        "plt.figure(figsize=(12, 6))  \n",
        "plt.plot(t,result_v_paper,'grey',label='ByPass LSTM (Ref.): Input = 10s',linewidth = 3, alpha=0.9)\n",
        "plt.plot(t,result_v_10,'blue',label='AE-BiLSTM: Input = 10s',linewidth = 3, alpha=0.5)\n",
        "plt.plot(t,result_v_6,'magenta',label='AE-BiLSTM: Input = 6s',linewidth = 3, alpha=0.5)\n",
        "plt.legend(loc='best', fontsize='12')\n",
        "plt.xticks(fontsize=12)\n",
        "plt.yticks(fontsize=12)\n",
        "plt.title('Longitudinal speed prediction w/ different input sizes', fontsize='16')\n",
        "plt.xlabel('Prediction at i-th second', fontsize='14')\n",
        "plt.ylabel('RMS (m/s)', fontsize='14')\n",
        "plt.show"
      ]
    }
  ],
  "metadata": {
    "colab": {
      "collapsed_sections": [
        "-Xv1LU-WSsWm",
        "UsR9bUcuF1V4"
      ],
      "name": "new_cap_aelstm_dynamic_norm_no_jump.ipynb",
      "provenance": []
    },
    "interpreter": {
      "hash": "67d07f1b7e8290b183c883f961929bdefe7e6c97a50d7aac8eb7cf86f0f9bd89"
    },
    "kernelspec": {
      "display_name": "Python 3.9.6 64-bit",
      "language": "python",
      "name": "python3"
    },
    "language_info": {
      "codemirror_mode": {
        "name": "ipython",
        "version": 3
      },
      "file_extension": ".py",
      "mimetype": "text/x-python",
      "name": "python",
      "nbconvert_exporter": "python",
      "pygments_lexer": "ipython3",
      "version": "3.9.6"
    }
  },
  "nbformat": 4,
  "nbformat_minor": 0
}